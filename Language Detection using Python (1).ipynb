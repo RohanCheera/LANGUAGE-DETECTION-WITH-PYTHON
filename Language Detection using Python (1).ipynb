{
 "cells": [
  {
   "cell_type": "markdown",
   "id": "209aca61",
   "metadata": {},
   "source": [
    "# LANGUAGE DETECTION WITH PYTHON"
   ]
  },
  {
   "cell_type": "code",
   "execution_count": 1,
   "id": "9341eb38",
   "metadata": {},
   "outputs": [
    {
     "name": "stdout",
     "output_type": "stream",
     "text": [
      "Enter any text in any language: 热衷于数据科学，努力成为充满激情的数据科学家。\n",
      "Chinese (China)\n"
     ]
    }
   ],
   "source": [
    "from langdetect import detect\n",
    "import langcodes\n",
    "text = input(\"Enter any text in any language: \")\n",
    "standardized_code = langcodes.standardize_tag(detect(text))\n",
    "language = langcodes.Language.get(standardized_code)\n",
    "if language:\n",
    "    print(language.display_name())\n",
    "else:\n",
    "    print(\"Invalid language code\")\n",
    "    "
   ]
  },
  {
   "cell_type": "code",
   "execution_count": null,
   "id": "0e276c0f",
   "metadata": {},
   "outputs": [],
   "source": []
  }
 ],
 "metadata": {
  "kernelspec": {
   "display_name": "Python 3 (ipykernel)",
   "language": "python",
   "name": "python3"
  },
  "language_info": {
   "codemirror_mode": {
    "name": "ipython",
    "version": 3
   },
   "file_extension": ".py",
   "mimetype": "text/x-python",
   "name": "python",
   "nbconvert_exporter": "python",
   "pygments_lexer": "ipython3",
   "version": "3.10.9"
  }
 },
 "nbformat": 4,
 "nbformat_minor": 5
}
